{
 "cells": [
  {
   "cell_type": "markdown",
   "metadata": {
    "collapsed": true
   },
   "source": [
    "\n",
    "Objectif de ce code : \n",
    "Avoir une vision globale des émissions de CO2 au niveau monde\n",
    "- Evolution entre 1960 et 2014\n",
    "- Part de chaque type d'énergie dans les émissions de CO2\n",
    "- Part de chaque secteur dans les émissions de CO2\n"
   ]
  },
  {
   "cell_type": "code",
   "execution_count": 13,
   "metadata": {
    "collapsed": true
   },
   "outputs": [],
   "source": [
    "# Library import\n",
    "\n",
    "import pandas as pd\n",
    "import matplotlib.pyplot as plt\n",
    "\n",
    "# Command so that plots appear in the iPython Notebook\n",
    "%matplotlib inline"
   ]
  },
  {
   "cell_type": "markdown",
   "metadata": {},
   "source": [
    "# IMPORT DES DONNEES"
   ]
  },
  {
   "cell_type": "code",
   "execution_count": 7,
   "metadata": {
    "collapsed": true
   },
   "outputs": [],
   "source": [
    "data = pd.read_csv('C:\\\\etude_cas_mcougul\\\\data\\\\WDIData.csv', sep=',')\n",
    "country = pd.read_csv('C:\\\\etude_cas_mcougul\\\\data\\\\WDICountry.csv', sep=',')\n",
    "series_1= pd.read_csv('C:\\\\etude_cas_mcougul\\\\data\\\\WDISeries.csv', sep=',')\n"
   ]
  },
  {
   "cell_type": "markdown",
   "metadata": {},
   "source": [
    "#    II - ANALYSE PRELIMINAIRE AU NIVEAU MONDIAL"
   ]
  },
  {
   "cell_type": "code",
   "execution_count": 11,
   "metadata": {
    "scrolled": true
   },
   "outputs": [
    {
     "name": "stderr",
     "output_type": "stream",
     "text": [
      "C:\\Users\\mcoug\\Anaconda3\\lib\\site-packages\\ipykernel_launcher.py:18: SettingWithCopyWarning: \n",
      "A value is trying to be set on a copy of a slice from a DataFrame\n",
      "\n",
      "See the caveats in the documentation: http://pandas.pydata.org/pandas-docs/stable/indexing.html#indexing-view-versus-copy\n"
     ]
    }
   ],
   "source": [
    "# 1 - EVOLUTION DE L'EMISSION DE CO2 AU NIVEAU MONDE DE 1960 A 2014\n",
    "\n",
    "# On ne garde que les données Monde\n",
    "\n",
    "world = data[data['Country Code'] == 'WLD']\n",
    "\n",
    "# On ne garde que les données concernant les émissions de CO2\n",
    "\n",
    "world_co2_emission = world[world['Indicator Code'] == 'EN.ATM.CO2E.KT']\n",
    "\n",
    "# On nettoie la table pour ne garder que les champs qui nous intéresse\n",
    "\n",
    "world_co2_emission.drop(['Country Code','Indicator Name','Indicator Code','2015','2016','2017','Unnamed: 62'],axis=1,inplace=True)\n"
   ]
  },
  {
   "cell_type": "code",
   "execution_count": 14,
   "metadata": {},
   "outputs": [
    {
     "data": {
      "text/plain": [
       "<matplotlib.axes._subplots.AxesSubplot at 0x214008d0be0>"
      ]
     },
     "execution_count": 14,
     "metadata": {},
     "output_type": "execute_result"
    },
    {
     "data": {
      "image/png": "[encoded data removed]",
      "text/plain": [
       "<matplotlib.figure.Figure at 0x21403847c88>"
      ]
     },
     "metadata": {},
     "output_type": "display_data"
    }
   ],
   "source": [
    "# Représentation graphique des données\n",
    "\n",
    "world_co2_emission.set_index('Country Name').T.plot()"
   ]
  },
  {
   "cell_type": "markdown",
   "metadata": {},
   "source": [
    "Note de lecture : Les émissions de CO2 au niveau mondial connait une tendance constante à la hausse depuis 1960."
   ]
  },
  {
   "cell_type": "code",
   "execution_count": 15,
   "metadata": {},
   "outputs": [
    {
     "name": "stderr",
     "output_type": "stream",
     "text": [
      "C:\\Users\\mcoug\\Anaconda3\\lib\\site-packages\\ipykernel_launcher.py:8: UserWarning: Boolean Series key will be reindexed to match DataFrame index.\n",
      "  \n"
     ]
    }
   ],
   "source": [
    "# 2 - PART DE CHAQUE TYPE D'ENERGIE DANS LES EMISSIONS DE CO2 EN 2014\n",
    "\n",
    "# On crée une table pour chaque type d'énergie avec les données correspondantes sur 2014\n",
    "# Puis on renomme le champ avec le nom du type d'énergie \n",
    "\n",
    "def type_energie(nom,code):\n",
    "     \n",
    "    table_energie = world[data['Indicator Code'] == code]\n",
    "    table_energie = table_energie[['Country Name','2014']]\n",
    "    table_energie.rename(columns={\"2014\": \"{0}\".format(nom)}, inplace=True)\n",
    "    return table_energie\n",
    "\n",
    "gaseous_fuel=type_energie('gaseous_fuel','EN.ATM.CO2E.GF.ZS')\n",
    "liquid_fuel=type_energie('liquid_fuel','EN.ATM.CO2E.LF.ZS')\n",
    "solid_fuel=type_energie('solid_fuel','EN.ATM.CO2E.SF.ZS')\n",
    "\n",
    "# On crée la table avec les données sur les 3 types d'énergie\n",
    "\n",
    "part_energie_dans_emission=pd.merge(pd.merge(gaseous_fuel,liquid_fuel,on='Country Name'),solid_fuel,on='Country Name')\n",
    "\n",
    "# On ajoute un champ 'Other' pour avoir une somme égale à 100%\n",
    "\n",
    "part_energie_dans_emission[\"other\"] = 100-(part_energie_dans_emission[\"gaseous_fuel\"]+part_energie_dans_emission[\"liquid_fuel\"]+part_energie_dans_emission[\"solid_fuel\"])\n"
   ]
  },
  {
   "cell_type": "code",
   "execution_count": 17,
   "metadata": {},
   "outputs": [
    {
     "name": "stdout",
     "output_type": "stream",
     "text": [
      "  Country Name  gaseous_fuel  liquid_fuel  solid_fuel    other\n",
      "0        World     18.498224    33.282598   41.775748  6.44343\n"
     ]
    }
   ],
   "source": [
    "print(part_energie_dans_emission)"
   ]
  },
  {
   "cell_type": "code",
   "execution_count": 18,
   "metadata": {},
   "outputs": [
    {
     "data": {
      "text/plain": [
       "<matplotlib.axes._subplots.AxesSubplot at 0x214691dc7b8>"
      ]
     },
     "execution_count": 18,
     "metadata": {},
     "output_type": "execute_result"
    },
    {
     "data": {
      "image/png": "[encoded data removed]",
      "text/plain": [
       "<matplotlib.figure.Figure at 0x214691fa588>"
      ]
     },
     "metadata": {},
     "output_type": "display_data"
    }
   ],
   "source": [
    "# Représentation graphique des données\n",
    "\n",
    "part_energie_dans_emission.plot.barh()"
   ]
  },
  {
   "cell_type": "markdown",
   "metadata": {},
   "source": [
    "Note de lecture : En 2014, les énérgies solides et liquides étaient responsables, respectivement, de 42% et 33% des émissions globales de CO2 alors que le gaz, lui, ne créait que 18% des émissions.\n"
   ]
  },
  {
   "cell_type": "code",
   "execution_count": 19,
   "metadata": {},
   "outputs": [
    {
     "name": "stderr",
     "output_type": "stream",
     "text": [
      "C:\\Users\\mcoug\\Anaconda3\\lib\\site-packages\\ipykernel_launcher.py:8: UserWarning: Boolean Series key will be reindexed to match DataFrame index.\n",
      "  \n"
     ]
    }
   ],
   "source": [
    "# 3 - PART DE CHAQUE SECTEUR DANS LES EMISSIONS DE CO2\n",
    "\n",
    "# On crée une table pour chaque secteur avec les données correspondantes sur 2014\n",
    "# Puis on renomme le champ avec le nom du secteur \n",
    "\n",
    "def secteurs(nom,code):\n",
    "     \n",
    "    table_secteurs = world[data['Indicator Code'] == code]\n",
    "    table_secteurs = table_secteurs[['Country Name','2014']]\n",
    "    table_secteurs.rename(columns={\"2014\": \"{0}\".format(nom)}, inplace=True)\n",
    "    return table_secteurs\n",
    "\n",
    "buildings=secteurs('buildings','EN.CO2.BLDG.ZS')\n",
    "electricity=secteurs('electricity and heat production','EN.CO2.ETOT.ZS')\n",
    "industries=secteurs('industries and construction','EN.CO2.MANF.ZS')\n",
    "transport=secteurs('transport','EN.CO2.TRAN.ZS')\n",
    "other=secteurs('other','EN.CO2.OTHX.ZS')\n",
    "\n",
    "# On crée la table avec les données sur les 5 secteurs\n",
    "\n",
    "part_secteurs_dans_emission=buildings.merge(electricity,on='Country Name').merge(industries,on='Country Name').merge(transport,on='Country Name').merge(other,on='Country Name')\n"
   ]
  },
  {
   "cell_type": "code",
   "execution_count": 20,
   "metadata": {},
   "outputs": [
    {
     "name": "stdout",
     "output_type": "stream",
     "text": [
      "  Country Name  buildings  electricity and heat production  \\\n",
      "0        World    8.59532                        49.040197   \n",
      "\n",
      "   industries and construction  transport     other  \n",
      "0                    19.960318  20.449062  1.955232  \n"
     ]
    }
   ],
   "source": [
    "print(part_secteurs_dans_emission)"
   ]
  },
  {
   "cell_type": "code",
   "execution_count": 21,
   "metadata": {},
   "outputs": [
    {
     "data": {
      "text/plain": [
       "([<matplotlib.patches.Wedge at 0x21469077ef0>,\n",
       "  <matplotlib.patches.Wedge at 0x21469158978>,\n",
       "  <matplotlib.patches.Wedge at 0x21469171278>,\n",
       "  <matplotlib.patches.Wedge at 0x21469162b38>,\n",
       "  <matplotlib.patches.Wedge at 0x21403811438>],\n",
       " [<matplotlib.text.Text at 0x21469188e48>,\n",
       "  <matplotlib.text.Text at 0x2146918d748>,\n",
       "  <matplotlib.text.Text at 0x21469162048>,\n",
       "  <matplotlib.text.Text at 0x21403836908>,\n",
       "  <matplotlib.text.Text at 0x21403812208>],\n",
       " [<matplotlib.text.Text at 0x21469158400>,\n",
       "  <matplotlib.text.Text at 0x2146918dcc0>,\n",
       "  <matplotlib.text.Text at 0x214691625c0>,\n",
       "  <matplotlib.text.Text at 0x21403836e80>,\n",
       "  <matplotlib.text.Text at 0x21403812780>])"
      ]
     },
     "execution_count": 21,
     "metadata": {},
     "output_type": "execute_result"
    },
    {
     "data": {
      "image/png": "[encoded data removed]",
      "text/plain": [
       "<matplotlib.figure.Figure at 0x21400076c50>"
      ]
     },
     "metadata": {},
     "output_type": "display_data"
    }
   ],
   "source": [
    "# Représentation graphique des données\n",
    "\n",
    "labels = 'buildings', 'electricity', 'industries', 'transport','other'\n",
    "plt.pie(part_secteurs_dans_emission.set_index('Country Name').T,autopct='%.0f%%',labels=labels,shadow=True, radius=0.5)\n"
   ]
  },
  {
   "cell_type": "markdown",
   "metadata": {},
   "source": [
    "Note de lecture : Trois secteurs produisent près de 90% des émissions de CO2 globales. Il s'agit de l'électricité, de loin le plus important avec 49% des émissions, suivi du transport et des industries à hauteur de 20% chacun."
   ]
  }
 ],
 "metadata": {
  "kernelspec": {
   "display_name": "Python 3",
   "language": "python",
   "name": "python3"
  },
  "language_info": {
   "codemirror_mode": {
    "name": "ipython",
    "version": 3
   },
   "file_extension": ".py",
   "mimetype": "text/x-python",
   "name": "python",
   "nbconvert_exporter": "python",
   "pygments_lexer": "ipython3",
   "version": "3.6.1"
  }
 },
 "nbformat": 4,
 "nbformat_minor": 2
}
