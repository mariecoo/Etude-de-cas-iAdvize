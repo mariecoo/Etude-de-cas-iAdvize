{
 "cells": [
  {
   "cell_type": "markdown",
   "metadata": {
    "collapsed": true
   },
   "source": [
    "Objectif de ce code : \n",
    "Avoir une vision globale des émissions de CO2 par région\n",
    "- Part de chaque région dans les émissions de CO2 (en 2014)\n",
    "- Top 20 des pays avec les émissions les plus importantes (en 2014)\n",
    "- Moyenne des émissions de CO2 par personne et par région\n",
    "- Emissions de CO2 par personne pour les 20 plus gros pollueurs identifiés précédemment (comparaison entre 1994 et 2014 pour voir les tendances par pays))"
   ]
  },
  {
   "cell_type": "code",
   "execution_count": 1,
   "metadata": {
    "collapsed": true
   },
   "outputs": [],
   "source": [
    "# Library import\n",
    "\n",
    "import pandas as pd\n",
    "import matplotlib.pyplot as plt\n",
    "\n",
    "# Command so that plots appear in the iPython Notebook\n",
    "%matplotlib inline"
   ]
  },
  {
   "cell_type": "markdown",
   "metadata": {},
   "source": [
    "#    I - IMPORT DES DONNEES  "
   ]
  },
  {
   "cell_type": "code",
   "execution_count": 2,
   "metadata": {
    "collapsed": true
   },
   "outputs": [],
   "source": [
    "data = pd.read_csv('C:\\\\etude_cas_mcougul\\\\data\\\\WDIData.csv', sep=',')\n",
    "country = pd.read_csv('C:\\\\etude_cas_mcougul\\\\data\\\\WDICountry.csv', sep=',')"
   ]
  },
  {
   "cell_type": "markdown",
   "metadata": {},
   "source": [
    "#    II - ANALYSE PRELIMINAIRE AU NIVEAU REGIONAL SUR LES EMISSIONS DE CO2 GLOBALES "
   ]
  },
  {
   "cell_type": "code",
   "execution_count": 3,
   "metadata": {
    "collapsed": true
   },
   "outputs": [],
   "source": [
    "# 1 - On supprime les données agrégées par groupe dans les data initiales\n",
    "# On réintégrera la notion de groupes de pays par la suite \n",
    "\n",
    "# On ne garde que les données des émissions de CO2\n",
    "\n",
    "data_co2_pays=data[data['Indicator Code'] == 'EN.ATM.CO2E.KT']\n",
    "\n",
    "# On supprime les groupes de pays pour avoir une table contenant uniquement les pays\n",
    "\n",
    "liste = ['ARB','CSS','CEB','EAR','EAS','EAP','TEA','EMU','ECS','ECA','TEC','EUU','FCS','HPC',\n",
    "'HIC','IBD','IBT','IDB','IDX','IDA','LTE','LCN','LDC','LAC','TLA',' UN classification','LMY','LIC',\n",
    "'LMC','MEA','MNA','TMN','MIC','NAC','INX','OED','OSS','PSS','PST','PRE','SST','SAS','TSA','SSF',\n",
    "'SSA','TSS','UMC','WLD']\n",
    "\n",
    "for i in liste:\n",
    "    data_co2_pays=data_co2_pays[data_co2_pays['Country Code'] != i]\n",
    "\n",
    "# On ajoute à ces infos, la région du pays \n",
    "\n",
    "country_groupes = country[[\"Country Code\",\"Region\"]]\n",
    "\n",
    "data_groupe_pays=pd.merge(data_co2_pays,country_groupes, on =[\"Country Code\"], how='inner')\n",
    "\n",
    "data_groupe_pays.drop(['Country Code','Indicator Name','Indicator Code','2015','2016','2017','Unnamed: 62'],axis=1,inplace=True)"
   ]
  },
  {
   "cell_type": "code",
   "execution_count": 18,
   "metadata": {},
   "outputs": [
    {
     "data": {
      "text/html": [
       "<div>\n",
       "<style>\n",
       "    .dataframe thead tr:only-child th {\n",
       "        text-align: right;\n",
       "    }\n",
       "\n",
       "    .dataframe thead th {\n",
       "        text-align: left;\n",
       "    }\n",
       "\n",
       "    .dataframe tbody tr th {\n",
       "        vertical-align: top;\n",
       "    }\n",
       "</style>\n",
       "<table border=\"1\" class=\"dataframe\">\n",
       "  <thead>\n",
       "    <tr style=\"text-align: right;\">\n",
       "      <th></th>\n",
       "      <th>Country Name</th>\n",
       "      <th>1960</th>\n",
       "      <th>1961</th>\n",
       "      <th>1962</th>\n",
       "      <th>1963</th>\n",
       "      <th>1964</th>\n",
       "      <th>1965</th>\n",
       "      <th>1966</th>\n",
       "      <th>1967</th>\n",
       "      <th>1968</th>\n",
       "      <th>...</th>\n",
       "      <th>2007</th>\n",
       "      <th>2008</th>\n",
       "      <th>2009</th>\n",
       "      <th>2010</th>\n",
       "      <th>2011</th>\n",
       "      <th>2012</th>\n",
       "      <th>2013</th>\n",
       "      <th>2014</th>\n",
       "      <th>Region</th>\n",
       "      <th>part_groupe</th>\n",
       "    </tr>\n",
       "  </thead>\n",
       "  <tbody>\n",
       "    <tr>\n",
       "      <th>0</th>\n",
       "      <td>Afghanistan</td>\n",
       "      <td>414.371</td>\n",
       "      <td>491.378</td>\n",
       "      <td>689.396</td>\n",
       "      <td>707.731</td>\n",
       "      <td>839.743</td>\n",
       "      <td>1008.425</td>\n",
       "      <td>1092.766</td>\n",
       "      <td>1283.450</td>\n",
       "      <td>1224.778</td>\n",
       "      <td>...</td>\n",
       "      <td>2273.540</td>\n",
       "      <td>4206.049</td>\n",
       "      <td>6769.282</td>\n",
       "      <td>8463.436</td>\n",
       "      <td>12240.446</td>\n",
       "      <td>10755.311</td>\n",
       "      <td>10014.577</td>\n",
       "      <td>9809.225</td>\n",
       "      <td>South Asia</td>\n",
       "      <td>0.074344</td>\n",
       "    </tr>\n",
       "    <tr>\n",
       "      <th>1</th>\n",
       "      <td>Albania</td>\n",
       "      <td>2024.184</td>\n",
       "      <td>2280.874</td>\n",
       "      <td>2464.224</td>\n",
       "      <td>2082.856</td>\n",
       "      <td>2016.850</td>\n",
       "      <td>2174.531</td>\n",
       "      <td>2552.232</td>\n",
       "      <td>2680.577</td>\n",
       "      <td>3072.946</td>\n",
       "      <td>...</td>\n",
       "      <td>3927.357</td>\n",
       "      <td>4374.731</td>\n",
       "      <td>4378.398</td>\n",
       "      <td>4598.418</td>\n",
       "      <td>5240.143</td>\n",
       "      <td>4910.113</td>\n",
       "      <td>5064.127</td>\n",
       "      <td>5716.853</td>\n",
       "      <td>Europe &amp; Central Asia</td>\n",
       "      <td>0.184283</td>\n",
       "    </tr>\n",
       "    <tr>\n",
       "      <th>2</th>\n",
       "      <td>Algeria</td>\n",
       "      <td>6160.560</td>\n",
       "      <td>6065.218</td>\n",
       "      <td>5669.182</td>\n",
       "      <td>5427.160</td>\n",
       "      <td>5650.847</td>\n",
       "      <td>6596.933</td>\n",
       "      <td>8430.433</td>\n",
       "      <td>8441.434</td>\n",
       "      <td>9061.157</td>\n",
       "      <td>...</td>\n",
       "      <td>109404.945</td>\n",
       "      <td>110208.018</td>\n",
       "      <td>121399.702</td>\n",
       "      <td>119177.500</td>\n",
       "      <td>121187.016</td>\n",
       "      <td>129987.816</td>\n",
       "      <td>134465.223</td>\n",
       "      <td>145400.217</td>\n",
       "      <td>Middle East &amp; North Africa</td>\n",
       "      <td>0.076538</td>\n",
       "    </tr>\n",
       "    <tr>\n",
       "      <th>3</th>\n",
       "      <td>American Samoa</td>\n",
       "      <td>NaN</td>\n",
       "      <td>NaN</td>\n",
       "      <td>NaN</td>\n",
       "      <td>NaN</td>\n",
       "      <td>NaN</td>\n",
       "      <td>NaN</td>\n",
       "      <td>NaN</td>\n",
       "      <td>NaN</td>\n",
       "      <td>NaN</td>\n",
       "      <td>...</td>\n",
       "      <td>NaN</td>\n",
       "      <td>NaN</td>\n",
       "      <td>NaN</td>\n",
       "      <td>NaN</td>\n",
       "      <td>NaN</td>\n",
       "      <td>NaN</td>\n",
       "      <td>NaN</td>\n",
       "      <td>NaN</td>\n",
       "      <td>East Asia &amp; Pacific</td>\n",
       "      <td>0.413722</td>\n",
       "    </tr>\n",
       "    <tr>\n",
       "      <th>4</th>\n",
       "      <td>Andorra</td>\n",
       "      <td>NaN</td>\n",
       "      <td>NaN</td>\n",
       "      <td>NaN</td>\n",
       "      <td>NaN</td>\n",
       "      <td>NaN</td>\n",
       "      <td>NaN</td>\n",
       "      <td>NaN</td>\n",
       "      <td>NaN</td>\n",
       "      <td>NaN</td>\n",
       "      <td>...</td>\n",
       "      <td>539.049</td>\n",
       "      <td>539.049</td>\n",
       "      <td>517.047</td>\n",
       "      <td>517.047</td>\n",
       "      <td>491.378</td>\n",
       "      <td>487.711</td>\n",
       "      <td>476.710</td>\n",
       "      <td>462.042</td>\n",
       "      <td>Europe &amp; Central Asia</td>\n",
       "      <td>0.184283</td>\n",
       "    </tr>\n",
       "    <tr>\n",
       "      <th>5</th>\n",
       "      <td>Angola</td>\n",
       "      <td>550.050</td>\n",
       "      <td>454.708</td>\n",
       "      <td>1180.774</td>\n",
       "      <td>1151.438</td>\n",
       "      <td>1224.778</td>\n",
       "      <td>1188.108</td>\n",
       "      <td>1554.808</td>\n",
       "      <td>993.757</td>\n",
       "      <td>1672.152</td>\n",
       "      <td>...</td>\n",
       "      <td>25151.953</td>\n",
       "      <td>25709.337</td>\n",
       "      <td>27792.193</td>\n",
       "      <td>29057.308</td>\n",
       "      <td>30340.758</td>\n",
       "      <td>33399.036</td>\n",
       "      <td>32617.965</td>\n",
       "      <td>34763.160</td>\n",
       "      <td>Sub-Saharan Africa</td>\n",
       "      <td>0.024119</td>\n",
       "    </tr>\n",
       "    <tr>\n",
       "      <th>6</th>\n",
       "      <td>Antigua and Barbuda</td>\n",
       "      <td>36.670</td>\n",
       "      <td>47.671</td>\n",
       "      <td>102.676</td>\n",
       "      <td>84.341</td>\n",
       "      <td>91.675</td>\n",
       "      <td>150.347</td>\n",
       "      <td>348.365</td>\n",
       "      <td>564.718</td>\n",
       "      <td>990.090</td>\n",
       "      <td>...</td>\n",
       "      <td>469.376</td>\n",
       "      <td>480.377</td>\n",
       "      <td>509.713</td>\n",
       "      <td>524.381</td>\n",
       "      <td>513.380</td>\n",
       "      <td>524.381</td>\n",
       "      <td>524.381</td>\n",
       "      <td>531.715</td>\n",
       "      <td>Latin America &amp; Caribbean</td>\n",
       "      <td>0.055876</td>\n",
       "    </tr>\n",
       "    <tr>\n",
       "      <th>7</th>\n",
       "      <td>Argentina</td>\n",
       "      <td>48815.104</td>\n",
       "      <td>51180.319</td>\n",
       "      <td>53695.881</td>\n",
       "      <td>50083.886</td>\n",
       "      <td>55727.399</td>\n",
       "      <td>58866.351</td>\n",
       "      <td>63138.406</td>\n",
       "      <td>65543.958</td>\n",
       "      <td>69082.613</td>\n",
       "      <td>...</td>\n",
       "      <td>175176.257</td>\n",
       "      <td>189107.190</td>\n",
       "      <td>179961.692</td>\n",
       "      <td>187919.082</td>\n",
       "      <td>191633.753</td>\n",
       "      <td>192356.152</td>\n",
       "      <td>189851.591</td>\n",
       "      <td>204024.546</td>\n",
       "      <td>Latin America &amp; Caribbean</td>\n",
       "      <td>0.055876</td>\n",
       "    </tr>\n",
       "    <tr>\n",
       "      <th>8</th>\n",
       "      <td>Armenia</td>\n",
       "      <td>NaN</td>\n",
       "      <td>NaN</td>\n",
       "      <td>NaN</td>\n",
       "      <td>NaN</td>\n",
       "      <td>NaN</td>\n",
       "      <td>NaN</td>\n",
       "      <td>NaN</td>\n",
       "      <td>NaN</td>\n",
       "      <td>NaN</td>\n",
       "      <td>...</td>\n",
       "      <td>5064.127</td>\n",
       "      <td>5559.172</td>\n",
       "      <td>4360.063</td>\n",
       "      <td>4217.050</td>\n",
       "      <td>4917.447</td>\n",
       "      <td>5694.851</td>\n",
       "      <td>5496.833</td>\n",
       "      <td>5529.836</td>\n",
       "      <td>Europe &amp; Central Asia</td>\n",
       "      <td>0.184283</td>\n",
       "    </tr>\n",
       "    <tr>\n",
       "      <th>9</th>\n",
       "      <td>Aruba</td>\n",
       "      <td>NaN</td>\n",
       "      <td>NaN</td>\n",
       "      <td>NaN</td>\n",
       "      <td>NaN</td>\n",
       "      <td>NaN</td>\n",
       "      <td>NaN</td>\n",
       "      <td>NaN</td>\n",
       "      <td>NaN</td>\n",
       "      <td>NaN</td>\n",
       "      <td>...</td>\n",
       "      <td>2823.590</td>\n",
       "      <td>2658.575</td>\n",
       "      <td>2629.239</td>\n",
       "      <td>2508.228</td>\n",
       "      <td>2500.894</td>\n",
       "      <td>1349.456</td>\n",
       "      <td>861.745</td>\n",
       "      <td>872.746</td>\n",
       "      <td>Latin America &amp; Caribbean</td>\n",
       "      <td>0.055876</td>\n",
       "    </tr>\n",
       "  </tbody>\n",
       "</table>\n",
       "<p>10 rows × 58 columns</p>\n",
       "</div>"
      ],
      "text/plain": [
       "          Country Name       1960       1961       1962       1963       1964  \\\n",
       "0          Afghanistan    414.371    491.378    689.396    707.731    839.743   \n",
       "1              Albania   2024.184   2280.874   2464.224   2082.856   2016.850   \n",
       "2              Algeria   6160.560   6065.218   5669.182   5427.160   5650.847   \n",
       "3       American Samoa        NaN        NaN        NaN        NaN        NaN   \n",
       "4              Andorra        NaN        NaN        NaN        NaN        NaN   \n",
       "5               Angola    550.050    454.708   1180.774   1151.438   1224.778   \n",
       "6  Antigua and Barbuda     36.670     47.671    102.676     84.341     91.675   \n",
       "7            Argentina  48815.104  51180.319  53695.881  50083.886  55727.399   \n",
       "8              Armenia        NaN        NaN        NaN        NaN        NaN   \n",
       "9                Aruba        NaN        NaN        NaN        NaN        NaN   \n",
       "\n",
       "        1965       1966       1967       1968     ...             2007  \\\n",
       "0   1008.425   1092.766   1283.450   1224.778     ...         2273.540   \n",
       "1   2174.531   2552.232   2680.577   3072.946     ...         3927.357   \n",
       "2   6596.933   8430.433   8441.434   9061.157     ...       109404.945   \n",
       "3        NaN        NaN        NaN        NaN     ...              NaN   \n",
       "4        NaN        NaN        NaN        NaN     ...          539.049   \n",
       "5   1188.108   1554.808    993.757   1672.152     ...        25151.953   \n",
       "6    150.347    348.365    564.718    990.090     ...          469.376   \n",
       "7  58866.351  63138.406  65543.958  69082.613     ...       175176.257   \n",
       "8        NaN        NaN        NaN        NaN     ...         5064.127   \n",
       "9        NaN        NaN        NaN        NaN     ...         2823.590   \n",
       "\n",
       "         2008        2009        2010        2011        2012        2013  \\\n",
       "0    4206.049    6769.282    8463.436   12240.446   10755.311   10014.577   \n",
       "1    4374.731    4378.398    4598.418    5240.143    4910.113    5064.127   \n",
       "2  110208.018  121399.702  119177.500  121187.016  129987.816  134465.223   \n",
       "3         NaN         NaN         NaN         NaN         NaN         NaN   \n",
       "4     539.049     517.047     517.047     491.378     487.711     476.710   \n",
       "5   25709.337   27792.193   29057.308   30340.758   33399.036   32617.965   \n",
       "6     480.377     509.713     524.381     513.380     524.381     524.381   \n",
       "7  189107.190  179961.692  187919.082  191633.753  192356.152  189851.591   \n",
       "8    5559.172    4360.063    4217.050    4917.447    5694.851    5496.833   \n",
       "9    2658.575    2629.239    2508.228    2500.894    1349.456     861.745   \n",
       "\n",
       "         2014                      Region  part_groupe  \n",
       "0    9809.225                  South Asia     0.074344  \n",
       "1    5716.853       Europe & Central Asia     0.184283  \n",
       "2  145400.217  Middle East & North Africa     0.076538  \n",
       "3         NaN         East Asia & Pacific     0.413722  \n",
       "4     462.042       Europe & Central Asia     0.184283  \n",
       "5   34763.160          Sub-Saharan Africa     0.024119  \n",
       "6     531.715   Latin America & Caribbean     0.055876  \n",
       "7  204024.546   Latin America & Caribbean     0.055876  \n",
       "8    5529.836       Europe & Central Asia     0.184283  \n",
       "9     872.746   Latin America & Caribbean     0.055876  \n",
       "\n",
       "[10 rows x 58 columns]"
      ]
     },
     "execution_count": 18,
     "metadata": {},
     "output_type": "execute_result"
    }
   ],
   "source": [
    "data_groupe_pays.head(10)"
   ]
  },
  {
   "cell_type": "code",
   "execution_count": 7,
   "metadata": {
    "collapsed": true
   },
   "outputs": [],
   "source": [
    "# 2 - Calcul de la part de chaque région dans les émissions de CO2 pour 2014\n",
    "\n",
    "# Calcul de la part en faisant : somme de chaque groupe / somme totale\n",
    "\n",
    "gb = data_groupe_pays.groupby('Region')['2014']\n",
    "data_groupe_pays['part_groupe'] = gb.transform('sum') / data_groupe_pays['2014'].sum()\n",
    "\n",
    "emission_par_groupe = data_groupe_pays.groupby(['Region'])['part_groupe'].first()"
   ]
  },
  {
   "cell_type": "code",
   "execution_count": 8,
   "metadata": {},
   "outputs": [
    {
     "name": "stdout",
     "output_type": "stream",
     "text": [
      "Region\n",
      "East Asia & Pacific           0.413722\n",
      "Europe & Central Asia         0.184283\n",
      "Latin America & Caribbean     0.055876\n",
      "Middle East & North Africa    0.076538\n",
      "North America                 0.171117\n",
      "South Asia                    0.074344\n",
      "Sub-Saharan Africa            0.024119\n",
      "Name: part_groupe, dtype: float64\n"
     ]
    }
   ],
   "source": [
    "print(emission_par_groupe)"
   ]
  },
  {
   "cell_type": "code",
   "execution_count": 9,
   "metadata": {},
   "outputs": [
    {
     "data": {
      "text/plain": [
       "([<matplotlib.patches.Wedge at 0x256007ae828>,\n",
       "  <matplotlib.patches.Wedge at 0x256007c4128>,\n",
       "  <matplotlib.patches.Wedge at 0x256003e9d68>,\n",
       "  <matplotlib.patches.Wedge at 0x256007cf400>,\n",
       "  <matplotlib.patches.Wedge at 0x256007d4cc0>,\n",
       "  <matplotlib.patches.Wedge at 0x256007e45c0>,\n",
       "  <matplotlib.patches.Wedge at 0x256007eae80>],\n",
       " [<matplotlib.text.Text at 0x256007ba5f8>,\n",
       "  <matplotlib.text.Text at 0x25600781dd8>,\n",
       "  <matplotlib.text.Text at 0x2560039e390>,\n",
       "  <matplotlib.text.Text at 0x256007d41d0>,\n",
       "  <matplotlib.text.Text at 0x256007dca90>,\n",
       "  <matplotlib.text.Text at 0x256007ea390>,\n",
       "  <matplotlib.text.Text at 0x256007f1c50>],\n",
       " [<matplotlib.text.Text at 0x256007bab70>,\n",
       "  <matplotlib.text.Text at 0x25600773198>,\n",
       "  <matplotlib.text.Text at 0x25665316e10>,\n",
       "  <matplotlib.text.Text at 0x256007d4748>,\n",
       "  <matplotlib.text.Text at 0x256007e4048>,\n",
       "  <matplotlib.text.Text at 0x256007ea908>,\n",
       "  <matplotlib.text.Text at 0x256007fc208>])"
      ]
     },
     "execution_count": 9,
     "metadata": {},
     "output_type": "execute_result"
    },
    {
     "data": {
      "image/png": "[encoded data removed]",
      "text/plain": [
       "<matplotlib.figure.Figure at 0x2560039f5c0>"
      ]
     },
     "metadata": {},
     "output_type": "display_data"
    }
   ],
   "source": [
    "# Représentation graphique\n",
    "\n",
    "labels = 'East Asia & Pacific', 'Europe & Central Asia', 'Latin America & Caribbean', 'Middle East & North Africa','North America','South Asia','Sub-Saharan Africa'\n",
    "plt.pie(emission_par_groupe,autopct='%.0f%%',labels=labels,shadow=True, radius=0.5)"
   ]
  },
  {
   "cell_type": "markdown",
   "metadata": {},
   "source": [
    "Note de lecture : Au niveau régional, les contributions aux émissions de CO2 varient très fortement. En effet, en 2014, les région \"Asie de l'Est et Pacifique\" (incluant la Chine), était responsable de 41% des émissions de CO2, suivi de l'\"Europe et Asie centrale\" (18%), et l'Amérique du Nord (17%). "
   ]
  },
  {
   "cell_type": "code",
   "execution_count": 10,
   "metadata": {
    "collapsed": true
   },
   "outputs": [],
   "source": [
    "# 3 - TOP 20 des pays avec les émissions de CO2 les plus importantes\n",
    "\n",
    "# On utilise la table data_co2_pays qui contient les émissions de CO2 par pays\n",
    "# On la trie par ordre décroissant et on ne garde que les 20 premières observations\n",
    "\n",
    "sort_2014 = data_co2_pays.sort_values(['2014'],ascending = False, na_position='last')\n",
    "sort_2014_20best=sort_2014[['Country Name', '2014']].head(20)"
   ]
  },
  {
   "cell_type": "code",
   "execution_count": 11,
   "metadata": {},
   "outputs": [
    {
     "name": "stdout",
     "output_type": "stream",
     "text": [
      "              Country Name          2014\n",
      "138812               China  1.029193e+07\n",
      "398687       United States  5.254279e+06\n",
      "212837               India  2.238377e+06\n",
      "326237  Russian Federation  1.705346e+06\n",
      "227012               Japan  1.214048e+06\n",
      "187637             Germany  7.198834e+05\n",
      "215987  Iran, Islamic Rep.  6.494807e+05\n",
      "334112        Saudi Arabia  6.010470e+05\n",
      "236462         Korea, Rep.  5.871564e+05\n",
      "129362              Canada  5.371935e+05\n",
      "115187              Brazil  5.298082e+05\n",
      "351437        South Africa  4.897719e+05\n",
      "274262              Mexico  4.802707e+05\n",
      "214412           Indonesia  4.641762e+05\n",
      "397112      United Kingdom  4.198202e+05\n",
      "89987            Australia  3.612618e+05\n",
      "386087              Turkey  3.459815e+05\n",
      "223862               Italy  3.204115e+05\n",
      "376637            Thailand  3.162127e+05\n",
      "179762              France  3.032756e+05\n"
     ]
    }
   ],
   "source": [
    "print(sort_2014_20best)"
   ]
  },
  {
   "cell_type": "code",
   "execution_count": 12,
   "metadata": {},
   "outputs": [
    {
     "data": {
      "text/plain": [
       "<matplotlib.axes._subplots.AxesSubplot at 0x25668276b00>"
      ]
     },
     "execution_count": 12,
     "metadata": {},
     "output_type": "execute_result"
    },
    {
     "data": {
      "image/png": "[encoded data removed]",
      "text/plain": [
       "<matplotlib.figure.Figure at 0x2560039f6a0>"
      ]
     },
     "metadata": {},
     "output_type": "display_data"
    }
   ],
   "source": [
    "# Représentation graphique\n",
    "\n",
    "sort_2014_20best.plot(kind='bar', x='Country Name')"
   ]
  },
  {
   "cell_type": "markdown",
   "metadata": {},
   "source": [
    "Note de lecture : Les différences régionales sont encore plus marquées lorsque l'on fait l'analyse au niveau des pays.\n",
    "Les deux plus gros polleurs sont la Chine avec 29% des émissions de CO2 (10,3 Gt CO2) et les Etats-Unis avec 15% (5,2 Gt Co2).\n",
    "\n",
    "Mais ce constat est-il le même quand on fait l'analyse sur les emissions par habitants ?"
   ]
  },
  {
   "cell_type": "markdown",
   "metadata": {},
   "source": [
    "#    III - ANALYSE PRELIMINAIRE AU NIVEAU REGIONAL SUR LES EMISSIONS DE CO2 PAR PERSONNE"
   ]
  },
  {
   "cell_type": "code",
   "execution_count": 13,
   "metadata": {
    "collapsed": true
   },
   "outputs": [],
   "source": [
    "# 1 - Table avec les données d'émission de CO2 par personne en 1994 et 2014\n",
    "# On prend ces 2 dates pour voir l'évolution en 20 ans => voir si certains pays baissent leurs émissions par personne\n",
    "\n",
    "data_co2_per_capita=data[data['Indicator Code'] == 'EN.ATM.CO2E.PC']\n",
    "data_co2_per_capita=data_co2_per_capita[[\"Country Name\",\"Country Code\",\"1994\",\"2014\"]]\n",
    "\n",
    "# On supprime les groupes de pays pour avoir une table contenant uniquement les pays\n",
    "\n",
    "liste = ['ARB','CSS','CEB','EAR','EAS','EAP','TEA','EMU','ECS','ECA','TEC','EUU','FCS','HPC',\n",
    "'HIC','IBD','IBT','IDB','IDX','IDA','LTE','LCN','LDC','LAC','TLA',' UN classification','LMY','LIC',\n",
    "'LMC','MEA','MNA','TMN','MIC','NAC','INX','OED','OSS','PSS','PST','PRE','SST','SAS','TSA','SSF',\n",
    "'SSA','TSS','UMC','WLD']\n",
    "\n",
    "for i in liste:\n",
    "    data_co2_per_capita=data_co2_per_capita[data_co2_per_capita['Country Code'] != i]\n",
    "\n",
    "# On ajoute à ces infos, la région du pays\n",
    "\n",
    "country_groupes = country[[\"Country Code\",\"Region\"]]\n",
    "\n",
    "co2_per_capita_groupe=pd.merge(data_co2_per_capita,country_groupes, on =[\"Country Code\"], how='inner')\n",
    "\n",
    "# 2 - Analyse de l'émission moyenne par personne pour chaque région\n",
    "\n",
    "co2_per_capita_groupe['mean_per_capita'] = co2_per_capita_groupe.groupby('Region')['2014'].transform('mean')\n",
    "\n",
    "emission_par_capita_groupe = co2_per_capita_groupe.groupby(['Region'])['mean_per_capita'].first()"
   ]
  },
  {
   "cell_type": "code",
   "execution_count": 14,
   "metadata": {},
   "outputs": [
    {
     "name": "stdout",
     "output_type": "stream",
     "text": [
      "Region\n",
      "East Asia & Pacific            4.878913\n",
      "Europe & Central Asia          6.381549\n",
      "Latin America & Caribbean      5.300597\n",
      "Middle East & North Africa    10.440475\n",
      "North America                 13.481740\n",
      "South Asia                     1.146488\n",
      "Sub-Saharan Africa             0.962051\n",
      "Name: mean_per_capita, dtype: float64\n"
     ]
    }
   ],
   "source": [
    "print(emission_par_capita_groupe)"
   ]
  },
  {
   "cell_type": "code",
   "execution_count": 21,
   "metadata": {},
   "outputs": [
    {
     "data": {
      "text/plain": [
       "([<matplotlib.patches.Wedge at 0x25600cfc6a0>,\n",
       "  <matplotlib.patches.Wedge at 0x25600d03f28>,\n",
       "  <matplotlib.patches.Wedge at 0x25600d17828>,\n",
       "  <matplotlib.patches.Wedge at 0x25600d25128>,\n",
       "  <matplotlib.patches.Wedge at 0x25600d2e9e8>,\n",
       "  <matplotlib.patches.Wedge at 0x25600d3f2e8>,\n",
       "  <matplotlib.patches.Wedge at 0x25600d45ba8>],\n",
       " [<matplotlib.text.Text at 0x25600d03438>,\n",
       "  <matplotlib.text.Text at 0x25600d0acf8>,\n",
       "  <matplotlib.text.Text at 0x25600d1e5f8>,\n",
       "  <matplotlib.text.Text at 0x25600d25eb8>,\n",
       "  <matplotlib.text.Text at 0x25600d367b8>,\n",
       "  <matplotlib.text.Text at 0x25600d450b8>,\n",
       "  <matplotlib.text.Text at 0x25600d4d978>],\n",
       " [<matplotlib.text.Text at 0x25600d039b0>,\n",
       "  <matplotlib.text.Text at 0x25600d172b0>,\n",
       "  <matplotlib.text.Text at 0x25600d1eb70>,\n",
       "  <matplotlib.text.Text at 0x25600d2e470>,\n",
       "  <matplotlib.text.Text at 0x25600d36d30>,\n",
       "  <matplotlib.text.Text at 0x25600d45630>,\n",
       "  <matplotlib.text.Text at 0x25600d4def0>])"
      ]
     },
     "execution_count": 21,
     "metadata": {},
     "output_type": "execute_result"
    },
    {
     "data": {
      "image/png": "[encoded data removed]",
      "text/plain": [
       "<matplotlib.figure.Figure at 0x2560082fc18>"
      ]
     },
     "metadata": {},
     "output_type": "display_data"
    }
   ],
   "source": [
    "# Représentation graphique\n",
    "\n",
    "labels = 'East Asia & Pacific', 'Europe & Central Asia', 'Latin America & Caribbean', 'Middle East & North Africa','North America','South Asia','Sub-Saharan Africa'\n",
    "plt.pie(emission_par_capita_groupe,autopct='%.0f%%',labels=labels,shadow=True, radius=0.5)"
   ]
  },
  {
   "cell_type": "markdown",
   "metadata": {},
   "source": [
    "Note de lecture : Il est intéressant de constater que l'Amérique du Nord, initialement en troisième position sur les émissions globales de CO2, est ici le plus prépondérant avec 32% des émissions de CO2 par habitant\n",
    "\n",
    "L'Asie de l'Est et Pacifique sont les plus gros pollueurs au global mais quand on ramène ces émissions par habitants, ils ne sont plus que 5e du classement avec seulement 11%"
   ]
  },
  {
   "cell_type": "code",
   "execution_count": 16,
   "metadata": {
    "collapsed": true
   },
   "outputs": [],
   "source": [
    "# 3 - Emissions de CO2 par personne pour les 20 plus gros pollueurs identifiés précédemment\n",
    "# (avec comparaison entre 1994 et 2014)\n",
    "\n",
    "co2_per_capita_gros_pollueurs = pd.merge(data_co2_per_capita, sort_2014_20best, on = [\"Country Name\"], how='inner')\n",
    "co2_per_capita_gros_pollueurs.drop([\"2014_y\"], axis=1, inplace = True)\n",
    "co2_per_capita_gros_pollueurs.rename(columns={\"2014_x\":\"2014\"}, inplace=True)\n"
   ]
  },
  {
   "cell_type": "code",
   "execution_count": 17,
   "metadata": {},
   "outputs": [
    {
     "data": {
      "text/plain": [
       "<matplotlib.axes._subplots.AxesSubplot at 0x25600994128>"
      ]
     },
     "execution_count": 17,
     "metadata": {},
     "output_type": "execute_result"
    },
    {
     "data": {
      "image/png": "[encoded data removed]",
      "text/plain": [
       "<matplotlib.figure.Figure at 0x25600a0f390>"
      ]
     },
     "metadata": {},
     "output_type": "display_data"
    }
   ],
   "source": [
    "# Représentation graphique\n",
    "\n",
    "co2_per_capita_gros_pollueurs.sort_values(['2014'],ascending = False, na_position='last').plot.bar(x=\"Country Name\")"
   ]
  },
  {
   "cell_type": "markdown",
   "metadata": {},
   "source": [
    "Note de lecture : En analysant les émissions par habitant et par pays, et ce sur 1994 et 2014, on remarque qu'il existe des tendances très différentes. En effet, les Etats-Unis ont une émission par habitant plus importante que la Chine mais sont cependant sur une tendance à la baisse, tout comme des pays comme le Royaume Unis, l'Allemagne, l'Italie ou la France. En revanche, des pays comme l'Arabie Saoudite, la Corée, l'Iran ou la Chine, connaisse eux une très forte augmentation des émissions par habitant en 20 ans."
   ]
  }
 ],
 "metadata": {
  "kernelspec": {
   "display_name": "Python 3",
   "language": "python",
   "name": "python3"
  },
  "language_info": {
   "codemirror_mode": {
    "name": "ipython",
    "version": 3
   },
   "file_extension": ".py",
   "mimetype": "text/x-python",
   "name": "python",
   "nbconvert_exporter": "python",
   "pygments_lexer": "ipython3",
   "version": "3.6.1"
  }
 },
 "nbformat": 4,
 "nbformat_minor": 2
}
