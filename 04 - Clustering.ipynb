{
 "cells": [
  {
   "cell_type": "markdown",
   "metadata": {},
   "source": [
    "Objectif de ce code : \n",
    "Construire des groupes de pays présentant les mêmes caractéristiques (sur 2014)\n",
    "Nous avons pris le parti ici de se focaliser sur des caractéristiques environnementale\n",
    "\n",
    "- Construction de la segmentation avec la méthode K-means \n",
    "- Interprétation des clusters identifiés"
   ]
  },
  {
   "cell_type": "code",
   "execution_count": 1,
   "metadata": {
    "collapsed": true
   },
   "outputs": [],
   "source": [
    "import pandas as pd\n",
    "import matplotlib.pyplot as plt\n",
    "import numpy as np\n",
    "\n",
    "# Command so that plots appear in the iPython Notebook\n",
    "%matplotlib inline"
   ]
  },
  {
   "cell_type": "markdown",
   "metadata": {},
   "source": [
    "#    I - DATA IMPORT"
   ]
  },
  {
   "cell_type": "code",
   "execution_count": 3,
   "metadata": {
    "collapsed": true
   },
   "outputs": [],
   "source": [
    "data = pd.read_csv('C:\\\\Users\\\\mcoug\\\\Dropbox\\\\Etude de cas iAdvize\\\\Data\\\\WDI\\\\WDIData.csv', sep=',')\n",
    "country = pd.read_csv('C:\\\\Users\\\\mcoug\\\\Dropbox\\\\Etude de cas iAdvize\\\\Data\\\\WDI\\\\WDICountry.csv', sep=',')\n",
    "series_1= pd.read_csv('C:\\\\Users\\\\mcoug\\\\Dropbox\\\\Etude de cas iAdvize\\\\Data\\\\WDI\\\\WDISeries.csv', sep=',')"
   ]
  },
  {
   "cell_type": "markdown",
   "metadata": {},
   "source": [
    "#    II - PREPARATION DES DONNEES    "
   ]
  },
  {
   "cell_type": "code",
   "execution_count": 4,
   "metadata": {},
   "outputs": [
    {
     "name": "stderr",
     "output_type": "stream",
     "text": [
      "C:\\Users\\mcoug\\Anaconda3\\lib\\site-packages\\ipykernel_launcher.py:28: SettingWithCopyWarning: \n",
      "A value is trying to be set on a copy of a slice from a DataFrame\n",
      "\n",
      "See the caveats in the documentation: http://pandas.pydata.org/pandas-docs/stable/indexing.html#indexing-view-versus-copy\n",
      "C:\\Users\\mcoug\\Anaconda3\\lib\\site-packages\\pandas\\core\\frame.py:2844: SettingWithCopyWarning: \n",
      "A value is trying to be set on a copy of a slice from a DataFrame\n",
      "\n",
      "See the caveats in the documentation: http://pandas.pydata.org/pandas-docs/stable/indexing.html#indexing-view-versus-copy\n",
      "  **kwargs)\n",
      "C:\\Users\\mcoug\\Anaconda3\\lib\\site-packages\\ipykernel_launcher.py:33: SettingWithCopyWarning: \n",
      "A value is trying to be set on a copy of a slice from a DataFrame\n",
      "\n",
      "See the caveats in the documentation: http://pandas.pydata.org/pandas-docs/stable/indexing.html#indexing-view-versus-copy\n"
     ]
    }
   ],
   "source": [
    "# On filtre les data sur les pays \n",
    "\n",
    "data_pays=data[['Country Code','Country Name','Indicator Code','2014']]\n",
    "\n",
    "liste = ['ARB','CSS','CEB','EAR','EAS','EAP','TEA','EMU','ECS','ECA','TEC','EUU','FCS','HPC',\n",
    "'HIC','IBD','IBT','IDB','IDX','IDA','LTE','LCN','LDC','LAC','TLA',' UN classification','LMY','LIC',\n",
    "'LMC','MEA','MNA','TMN','MIC','NAC','INX','OED','OSS','PSS','PST','PRE','SST','SAS','TSA','SSF',\n",
    "'SSA','TSS','UMC','WLD']\n",
    "\n",
    "for i in liste:\n",
    "    data_pays=data_pays[data_pays['Country Code'] != i]\n",
    "    \n",
    "\n",
    "# On garde uniquement les indicateurs qui nous intéresse pour la clusterisation\n",
    "# cf. les indicateurs identifiés précédemment\n",
    "\n",
    "list_kpis = ['EN.ATM.CO2E.GF.ZS',\n",
    "'EN.CO2.ETOT.ZS',\n",
    "'EN.ATM.CO2E.SF.ZS',\n",
    "'EN.CO2.TRAN.ZS',\n",
    "'EG.USE.COMM.CL.ZS',\n",
    "'EN.CO2.BLDG.ZS',\n",
    "'EN.CO2.OTHX.ZS',\n",
    "'EN.ATM.CO2E.LF.ZS',\n",
    "'EG.USE.CRNW.ZS']\n",
    "\n",
    "data_pays_clustering=data_pays[data_pays[\"Indicator Code\"]=='EN.ATM.CO2E.PC']\n",
    "data_pays_clustering.drop(['Indicator Code'],axis=1,inplace=True)\n",
    "data_pays_clustering.rename(columns={'2014':'EN.ATM.CO2E.PC'},inplace = True)\n",
    "\n",
    "for i in list_kpis:\n",
    "    ajout_kpi=data_pays[data_pays[\"Indicator Code\"]==i]\n",
    "    ajout_kpi.drop(['Country Name'], axis=1, inplace = True)\n",
    "    data_pays_clustering = pd.merge(data_pays_clustering,ajout_kpi,on=['Country Code'],how='inner')\n",
    "    data_pays_clustering.drop(['Indicator Code'],axis=1,inplace=True)\n",
    "    data_pays_clustering.rename(columns={'2014':i} ,inplace = True)  "
   ]
  },
  {
   "cell_type": "code",
   "execution_count": 6,
   "metadata": {},
   "outputs": [
    {
     "data": {
      "text/html": [
       "<div>\n",
       "<style>\n",
       "    .dataframe thead tr:only-child th {\n",
       "        text-align: right;\n",
       "    }\n",
       "\n",
       "    .dataframe thead th {\n",
       "        text-align: left;\n",
       "    }\n",
       "\n",
       "    .dataframe tbody tr th {\n",
       "        vertical-align: top;\n",
       "    }\n",
       "</style>\n",
       "<table border=\"1\" class=\"dataframe\">\n",
       "  <thead>\n",
       "    <tr style=\"text-align: right;\">\n",
       "      <th></th>\n",
       "      <th>Country Code</th>\n",
       "      <th>Country Name</th>\n",
       "      <th>EN.ATM.CO2E.PC</th>\n",
       "      <th>EN.ATM.CO2E.GF.ZS</th>\n",
       "      <th>EN.CO2.ETOT.ZS</th>\n",
       "      <th>EN.ATM.CO2E.SF.ZS</th>\n",
       "      <th>EN.CO2.TRAN.ZS</th>\n",
       "      <th>EG.USE.COMM.CL.ZS</th>\n",
       "      <th>EN.CO2.BLDG.ZS</th>\n",
       "      <th>EN.CO2.OTHX.ZS</th>\n",
       "      <th>EN.ATM.CO2E.LF.ZS</th>\n",
       "      <th>EG.USE.CRNW.ZS</th>\n",
       "    </tr>\n",
       "  </thead>\n",
       "  <tbody>\n",
       "    <tr>\n",
       "      <th>0</th>\n",
       "      <td>AFG</td>\n",
       "      <td>Afghanistan</td>\n",
       "      <td>0.299445</td>\n",
       "      <td>2.766355</td>\n",
       "      <td>NaN</td>\n",
       "      <td>44.635514</td>\n",
       "      <td>NaN</td>\n",
       "      <td>NaN</td>\n",
       "      <td>NaN</td>\n",
       "      <td>NaN</td>\n",
       "      <td>52.074766</td>\n",
       "      <td>NaN</td>\n",
       "    </tr>\n",
       "    <tr>\n",
       "      <th>1</th>\n",
       "      <td>ALB</td>\n",
       "      <td>Albania</td>\n",
       "      <td>1.978763</td>\n",
       "      <td>1.026299</td>\n",
       "      <td>2.912621</td>\n",
       "      <td>12.251443</td>\n",
       "      <td>59.951456</td>\n",
       "      <td>17.924206</td>\n",
       "      <td>8.495146</td>\n",
       "      <td>6.553398</td>\n",
       "      <td>67.543297</td>\n",
       "      <td>9.361381</td>\n",
       "    </tr>\n",
       "    <tr>\n",
       "      <th>2</th>\n",
       "      <td>DZA</td>\n",
       "      <td>Algeria</td>\n",
       "      <td>3.717410</td>\n",
       "      <td>50.820912</td>\n",
       "      <td>38.826975</td>\n",
       "      <td>0.375779</td>\n",
       "      <td>35.280241</td>\n",
       "      <td>0.042274</td>\n",
       "      <td>15.179370</td>\n",
       "      <td>2.367201</td>\n",
       "      <td>36.372349</td>\n",
       "      <td>0.011600</td>\n",
       "    </tr>\n",
       "    <tr>\n",
       "      <th>3</th>\n",
       "      <td>ASM</td>\n",
       "      <td>American Samoa</td>\n",
       "      <td>NaN</td>\n",
       "      <td>NaN</td>\n",
       "      <td>NaN</td>\n",
       "      <td>NaN</td>\n",
       "      <td>NaN</td>\n",
       "      <td>NaN</td>\n",
       "      <td>NaN</td>\n",
       "      <td>NaN</td>\n",
       "      <td>NaN</td>\n",
       "      <td>NaN</td>\n",
       "    </tr>\n",
       "    <tr>\n",
       "      <th>4</th>\n",
       "      <td>AND</td>\n",
       "      <td>Andorra</td>\n",
       "      <td>5.832170</td>\n",
       "      <td>0.000000</td>\n",
       "      <td>NaN</td>\n",
       "      <td>0.000000</td>\n",
       "      <td>NaN</td>\n",
       "      <td>NaN</td>\n",
       "      <td>NaN</td>\n",
       "      <td>NaN</td>\n",
       "      <td>100.000000</td>\n",
       "      <td>NaN</td>\n",
       "    </tr>\n",
       "    <tr>\n",
       "      <th>5</th>\n",
       "      <td>AGO</td>\n",
       "      <td>Angola</td>\n",
       "      <td>1.291328</td>\n",
       "      <td>1.666667</td>\n",
       "      <td>19.170984</td>\n",
       "      <td>0.000000</td>\n",
       "      <td>43.989637</td>\n",
       "      <td>2.954635</td>\n",
       "      <td>28.704663</td>\n",
       "      <td>0.362694</td>\n",
       "      <td>56.012658</td>\n",
       "      <td>48.765820</td>\n",
       "    </tr>\n",
       "    <tr>\n",
       "      <th>6</th>\n",
       "      <td>ATG</td>\n",
       "      <td>Antigua and Barbuda</td>\n",
       "      <td>5.377649</td>\n",
       "      <td>0.000000</td>\n",
       "      <td>NaN</td>\n",
       "      <td>0.000000</td>\n",
       "      <td>NaN</td>\n",
       "      <td>NaN</td>\n",
       "      <td>NaN</td>\n",
       "      <td>NaN</td>\n",
       "      <td>100.000000</td>\n",
       "      <td>NaN</td>\n",
       "    </tr>\n",
       "    <tr>\n",
       "      <th>7</th>\n",
       "      <td>ARG</td>\n",
       "      <td>Argentina</td>\n",
       "      <td>4.746797</td>\n",
       "      <td>47.392070</td>\n",
       "      <td>38.038563</td>\n",
       "      <td>2.854164</td>\n",
       "      <td>24.167143</td>\n",
       "      <td>5.878946</td>\n",
       "      <td>14.463905</td>\n",
       "      <td>6.465360</td>\n",
       "      <td>46.164492</td>\n",
       "      <td>4.599746</td>\n",
       "    </tr>\n",
       "    <tr>\n",
       "      <th>8</th>\n",
       "      <td>ARM</td>\n",
       "      <td>Armenia</td>\n",
       "      <td>1.902759</td>\n",
       "      <td>80.636605</td>\n",
       "      <td>29.693487</td>\n",
       "      <td>0.000000</td>\n",
       "      <td>27.777778</td>\n",
       "      <td>27.513410</td>\n",
       "      <td>31.034483</td>\n",
       "      <td>0.383142</td>\n",
       "      <td>15.517241</td>\n",
       "      <td>1.145285</td>\n",
       "    </tr>\n",
       "    <tr>\n",
       "      <th>9</th>\n",
       "      <td>ABW</td>\n",
       "      <td>Aruba</td>\n",
       "      <td>8.408363</td>\n",
       "      <td>0.000000</td>\n",
       "      <td>NaN</td>\n",
       "      <td>0.000000</td>\n",
       "      <td>NaN</td>\n",
       "      <td>NaN</td>\n",
       "      <td>NaN</td>\n",
       "      <td>NaN</td>\n",
       "      <td>100.000000</td>\n",
       "      <td>NaN</td>\n",
       "    </tr>\n",
       "  </tbody>\n",
       "</table>\n",
       "</div>"
      ],
      "text/plain": [
       "  Country Code         Country Name  EN.ATM.CO2E.PC  EN.ATM.CO2E.GF.ZS  \\\n",
       "0          AFG          Afghanistan        0.299445           2.766355   \n",
       "1          ALB              Albania        1.978763           1.026299   \n",
       "2          DZA              Algeria        3.717410          50.820912   \n",
       "3          ASM       American Samoa             NaN                NaN   \n",
       "4          AND              Andorra        5.832170           0.000000   \n",
       "5          AGO               Angola        1.291328           1.666667   \n",
       "6          ATG  Antigua and Barbuda        5.377649           0.000000   \n",
       "7          ARG            Argentina        4.746797          47.392070   \n",
       "8          ARM              Armenia        1.902759          80.636605   \n",
       "9          ABW                Aruba        8.408363           0.000000   \n",
       "\n",
       "   EN.CO2.ETOT.ZS  EN.ATM.CO2E.SF.ZS  EN.CO2.TRAN.ZS  EG.USE.COMM.CL.ZS  \\\n",
       "0             NaN          44.635514             NaN                NaN   \n",
       "1        2.912621          12.251443       59.951456          17.924206   \n",
       "2       38.826975           0.375779       35.280241           0.042274   \n",
       "3             NaN                NaN             NaN                NaN   \n",
       "4             NaN           0.000000             NaN                NaN   \n",
       "5       19.170984           0.000000       43.989637           2.954635   \n",
       "6             NaN           0.000000             NaN                NaN   \n",
       "7       38.038563           2.854164       24.167143           5.878946   \n",
       "8       29.693487           0.000000       27.777778          27.513410   \n",
       "9             NaN           0.000000             NaN                NaN   \n",
       "\n",
       "   EN.CO2.BLDG.ZS  EN.CO2.OTHX.ZS  EN.ATM.CO2E.LF.ZS  EG.USE.CRNW.ZS  \n",
       "0             NaN             NaN          52.074766             NaN  \n",
       "1        8.495146        6.553398          67.543297        9.361381  \n",
       "2       15.179370        2.367201          36.372349        0.011600  \n",
       "3             NaN             NaN                NaN             NaN  \n",
       "4             NaN             NaN         100.000000             NaN  \n",
       "5       28.704663        0.362694          56.012658       48.765820  \n",
       "6             NaN             NaN         100.000000             NaN  \n",
       "7       14.463905        6.465360          46.164492        4.599746  \n",
       "8       31.034483        0.383142          15.517241        1.145285  \n",
       "9             NaN             NaN         100.000000             NaN  "
      ]
     },
     "execution_count": 6,
     "metadata": {},
     "output_type": "execute_result"
    }
   ],
   "source": [
    "data_pays_clustering.head(10)"
   ]
  },
  {
   "cell_type": "code",
   "execution_count": 7,
   "metadata": {
    "collapsed": true
   },
   "outputs": [],
   "source": [
    "# Suppression des valeurs manquantes\n",
    "\n",
    "data_pays_clustering=data_pays_clustering.dropna(axis=0)"
   ]
  },
  {
   "cell_type": "code",
   "execution_count": 8,
   "metadata": {},
   "outputs": [
    {
     "data": {
      "text/html": [
       "<div>\n",
       "<style>\n",
       "    .dataframe thead tr:only-child th {\n",
       "        text-align: right;\n",
       "    }\n",
       "\n",
       "    .dataframe thead th {\n",
       "        text-align: left;\n",
       "    }\n",
       "\n",
       "    .dataframe tbody tr th {\n",
       "        vertical-align: top;\n",
       "    }\n",
       "</style>\n",
       "<table border=\"1\" class=\"dataframe\">\n",
       "  <thead>\n",
       "    <tr style=\"text-align: right;\">\n",
       "      <th></th>\n",
       "      <th>Country Code</th>\n",
       "      <th>Country Name</th>\n",
       "      <th>EN.ATM.CO2E.PC</th>\n",
       "      <th>EN.ATM.CO2E.GF.ZS</th>\n",
       "      <th>EN.CO2.ETOT.ZS</th>\n",
       "      <th>EN.ATM.CO2E.SF.ZS</th>\n",
       "      <th>EN.CO2.TRAN.ZS</th>\n",
       "      <th>EG.USE.COMM.CL.ZS</th>\n",
       "      <th>EN.CO2.BLDG.ZS</th>\n",
       "      <th>EN.CO2.OTHX.ZS</th>\n",
       "      <th>EN.ATM.CO2E.LF.ZS</th>\n",
       "      <th>EG.USE.CRNW.ZS</th>\n",
       "    </tr>\n",
       "  </thead>\n",
       "  <tbody>\n",
       "    <tr>\n",
       "      <th>1</th>\n",
       "      <td>ALB</td>\n",
       "      <td>Albania</td>\n",
       "      <td>1.978763</td>\n",
       "      <td>1.026299</td>\n",
       "      <td>2.912621</td>\n",
       "      <td>12.251443</td>\n",
       "      <td>59.951456</td>\n",
       "      <td>17.924206</td>\n",
       "      <td>8.495146</td>\n",
       "      <td>6.553398</td>\n",
       "      <td>67.543297</td>\n",
       "      <td>9.361381</td>\n",
       "    </tr>\n",
       "    <tr>\n",
       "      <th>2</th>\n",
       "      <td>DZA</td>\n",
       "      <td>Algeria</td>\n",
       "      <td>3.717410</td>\n",
       "      <td>50.820912</td>\n",
       "      <td>38.826975</td>\n",
       "      <td>0.375779</td>\n",
       "      <td>35.280241</td>\n",
       "      <td>0.042274</td>\n",
       "      <td>15.179370</td>\n",
       "      <td>2.367201</td>\n",
       "      <td>36.372349</td>\n",
       "      <td>0.011600</td>\n",
       "    </tr>\n",
       "    <tr>\n",
       "      <th>5</th>\n",
       "      <td>AGO</td>\n",
       "      <td>Angola</td>\n",
       "      <td>1.291328</td>\n",
       "      <td>1.666667</td>\n",
       "      <td>19.170984</td>\n",
       "      <td>0.000000</td>\n",
       "      <td>43.989637</td>\n",
       "      <td>2.954635</td>\n",
       "      <td>28.704663</td>\n",
       "      <td>0.362694</td>\n",
       "      <td>56.012658</td>\n",
       "      <td>48.765820</td>\n",
       "    </tr>\n",
       "    <tr>\n",
       "      <th>7</th>\n",
       "      <td>ARG</td>\n",
       "      <td>Argentina</td>\n",
       "      <td>4.746797</td>\n",
       "      <td>47.392070</td>\n",
       "      <td>38.038563</td>\n",
       "      <td>2.854164</td>\n",
       "      <td>24.167143</td>\n",
       "      <td>5.878946</td>\n",
       "      <td>14.463905</td>\n",
       "      <td>6.465360</td>\n",
       "      <td>46.164492</td>\n",
       "      <td>4.599746</td>\n",
       "    </tr>\n",
       "    <tr>\n",
       "      <th>8</th>\n",
       "      <td>ARM</td>\n",
       "      <td>Armenia</td>\n",
       "      <td>1.902759</td>\n",
       "      <td>80.636605</td>\n",
       "      <td>29.693487</td>\n",
       "      <td>0.000000</td>\n",
       "      <td>27.777778</td>\n",
       "      <td>27.513410</td>\n",
       "      <td>31.034483</td>\n",
       "      <td>0.383142</td>\n",
       "      <td>15.517241</td>\n",
       "      <td>1.145285</td>\n",
       "    </tr>\n",
       "  </tbody>\n",
       "</table>\n",
       "</div>"
      ],
      "text/plain": [
       "  Country Code Country Name  EN.ATM.CO2E.PC  EN.ATM.CO2E.GF.ZS  \\\n",
       "1          ALB      Albania        1.978763           1.026299   \n",
       "2          DZA      Algeria        3.717410          50.820912   \n",
       "5          AGO       Angola        1.291328           1.666667   \n",
       "7          ARG    Argentina        4.746797          47.392070   \n",
       "8          ARM      Armenia        1.902759          80.636605   \n",
       "\n",
       "   EN.CO2.ETOT.ZS  EN.ATM.CO2E.SF.ZS  EN.CO2.TRAN.ZS  EG.USE.COMM.CL.ZS  \\\n",
       "1        2.912621          12.251443       59.951456          17.924206   \n",
       "2       38.826975           0.375779       35.280241           0.042274   \n",
       "5       19.170984           0.000000       43.989637           2.954635   \n",
       "7       38.038563           2.854164       24.167143           5.878946   \n",
       "8       29.693487           0.000000       27.777778          27.513410   \n",
       "\n",
       "   EN.CO2.BLDG.ZS  EN.CO2.OTHX.ZS  EN.ATM.CO2E.LF.ZS  EG.USE.CRNW.ZS  \n",
       "1        8.495146        6.553398          67.543297        9.361381  \n",
       "2       15.179370        2.367201          36.372349        0.011600  \n",
       "5       28.704663        0.362694          56.012658       48.765820  \n",
       "7       14.463905        6.465360          46.164492        4.599746  \n",
       "8       31.034483        0.383142          15.517241        1.145285  "
      ]
     },
     "execution_count": 8,
     "metadata": {},
     "output_type": "execute_result"
    }
   ],
   "source": [
    "data_pays_clustering.head(5)"
   ]
  },
  {
   "cell_type": "code",
   "execution_count": 9,
   "metadata": {
    "collapsed": true
   },
   "outputs": [],
   "source": [
    "# Table finale\n",
    "\n",
    "x = data_pays_clustering.drop([\"Country Name\",\"Country Code\"],axis=1)"
   ]
  },
  {
   "cell_type": "markdown",
   "metadata": {},
   "source": [
    "#    III - CLUSTERING"
   ]
  },
  {
   "cell_type": "code",
   "execution_count": 10,
   "metadata": {},
   "outputs": [
    {
     "data": {
      "image/png": "[encoded data removed]",
      "text/plain": [
       "<matplotlib.figure.Figure at 0x1a1a53bc0f0>"
      ]
     },
     "metadata": {},
     "output_type": "display_data"
    }
   ],
   "source": [
    "# 1 - On utilise la méthode elbow pour trouver le nombre optimal de clusters\n",
    "\n",
    "from sklearn.cluster import KMeans\n",
    "from sklearn import cluster\n",
    "wcss = []\n",
    "for i in range(1, 11):\n",
    "    kmeans = KMeans(n_clusters = i, init = 'k-means++', random_state = 0)\n",
    "    kmeans.fit(x)\n",
    "    wcss.append(kmeans.inertia_) #attribut inertia_ qui est en fait le calcul de wcss\n",
    "plt.plot(range(1, 11), wcss) #plot(abscisse, ordonnée) => range(1,11) pour avoir chaque nb entre 1 et 10\n",
    "plt.title('La méthode Elbow')\n",
    "plt.xlabel('Nombre de clusters')\n",
    "plt.ylabel('WCSS')\n",
    "plt.show()"
   ]
  },
  {
   "cell_type": "markdown",
   "metadata": {},
   "source": [
    "Cette méthode nous permet de se faire une idée sur le nombre optimal de classes que l'on doit avoir dans notre clusterisation.\n",
    "Ici, nous retiendrons 4 et 6. Après des tests avec 4 ou 6 classes, nous retenons finalement une segmentation en 4 groupes."
   ]
  },
  {
   "cell_type": "code",
   "execution_count": 11,
   "metadata": {
    "collapsed": true
   },
   "outputs": [],
   "source": [
    "# 2 - K-means \n",
    "kmeans = cluster.KMeans(n_clusters=4,init = 'k-means++',random_state=0)\n",
    "kmeans.fit(x)\n",
    "y_kmeans = kmeans.predict(x)"
   ]
  },
  {
   "cell_type": "code",
   "execution_count": 13,
   "metadata": {},
   "outputs": [
    {
     "name": "stdout",
     "output_type": "stream",
     "text": [
      "[3 2 1 2 2 0 3 2 2 2 2 3 1 3 0 0 3 2 0 1 1 2 3 0 3 1 1 3 1 3 3 3 3 0 3 3 3\n",
      " 2 3 0 1 0 3 1 2 0 1 3 0 1 1 1 0 2 3 0 3 2 3 3 0 2 3 0 3 0 1 0 0 2 0 3 3 3\n",
      " 3 3 0 2 3 0 3 2 0 0 3 1 1 3 1 2 3 1 1 1 3 2 2 3 1 3 0 0 3 2 0 2 3 1 0 2 0\n",
      " 3 0 1 3 1 3 3 3 3 3 1 3 1 2 2 0 2 0 2 2 0 1]\n"
     ]
    }
   ],
   "source": [
    "print(y_kmeans)"
   ]
  },
  {
   "cell_type": "code",
   "execution_count": 14,
   "metadata": {
    "collapsed": true
   },
   "outputs": [],
   "source": [
    "# index triés des groupes\n",
    "idk = np.argsort(kmeans.labels_)\n",
    "# affichage des observations et leurs groupes\n",
    "classe=pd.DataFrame(kmeans.labels_[idk],x.index[idk])"
   ]
  },
  {
   "cell_type": "code",
   "execution_count": 17,
   "metadata": {},
   "outputs": [
    {
     "data": {
      "text/html": [
       "<div>\n",
       "<style>\n",
       "    .dataframe thead tr:only-child th {\n",
       "        text-align: right;\n",
       "    }\n",
       "\n",
       "    .dataframe thead th {\n",
       "        text-align: left;\n",
       "    }\n",
       "\n",
       "    .dataframe tbody tr th {\n",
       "        vertical-align: top;\n",
       "    }\n",
       "</style>\n",
       "<table border=\"1\" class=\"dataframe\">\n",
       "  <thead>\n",
       "    <tr style=\"text-align: right;\">\n",
       "      <th></th>\n",
       "      <th>0</th>\n",
       "    </tr>\n",
       "  </thead>\n",
       "  <tbody>\n",
       "    <tr>\n",
       "      <th>41</th>\n",
       "      <td>0</td>\n",
       "    </tr>\n",
       "    <tr>\n",
       "      <th>131</th>\n",
       "      <td>0</td>\n",
       "    </tr>\n",
       "    <tr>\n",
       "      <th>126</th>\n",
       "      <td>0</td>\n",
       "    </tr>\n",
       "    <tr>\n",
       "      <th>117</th>\n",
       "      <td>0</td>\n",
       "    </tr>\n",
       "    <tr>\n",
       "      <th>106</th>\n",
       "      <td>0</td>\n",
       "    </tr>\n",
       "  </tbody>\n",
       "</table>\n",
       "</div>"
      ],
      "text/plain": [
       "     0\n",
       "41   0\n",
       "131  0\n",
       "126  0\n",
       "117  0\n",
       "106  0"
      ]
     },
     "execution_count": 17,
     "metadata": {},
     "output_type": "execute_result"
    }
   ],
   "source": [
    "classe.head(5)"
   ]
  },
  {
   "cell_type": "code",
   "execution_count": 18,
   "metadata": {
    "collapsed": true
   },
   "outputs": [],
   "source": [
    "# 3 - Fusion avec les données\n",
    "\n",
    "clustering=pd.merge(data_pays_clustering,classe,left_index=True,right_index=True)\n",
    "clustering.rename(columns={'EN.ATM.CO2E.GF.ZS' : 'CO2 emissions from gaseous fuel',\n",
    "'EN.CO2.ETOT.ZS' : 'CO2 emissions from elec and heat prod',\n",
    "'EN.ATM.CO2E.SF.ZS' : 'CO2 emissions from solid fuel',\n",
    "'EN.CO2.TRAN.ZS' : 'CO2 emissions from transport',\n",
    "'EG.USE.COMM.CL.ZS' : 'Alternative and nuclear energy',\n",
    "'EN.CO2.BLDG.ZS' : 'CO2 emissions from buildings',\n",
    "'EN.CO2.OTHX.ZS' : 'CO2 emissions from other sectors',\n",
    "'EN.ATM.CO2E.LF.ZS' : 'CO2 emissions from liquid fuel',\n",
    "'EG.USE.CRNW.ZS' : 'Combustible renewables and waste',\n",
    "'EN.ATM.CO2E.PC' : 'emission co2 capita'},inplace=True)"
   ]
  },
  {
   "cell_type": "code",
   "execution_count": 19,
   "metadata": {},
   "outputs": [
    {
     "data": {
      "text/html": [
       "<div>\n",
       "<style>\n",
       "    .dataframe thead tr:only-child th {\n",
       "        text-align: right;\n",
       "    }\n",
       "\n",
       "    .dataframe thead th {\n",
       "        text-align: left;\n",
       "    }\n",
       "\n",
       "    .dataframe tbody tr th {\n",
       "        vertical-align: top;\n",
       "    }\n",
       "</style>\n",
       "<table border=\"1\" class=\"dataframe\">\n",
       "  <thead>\n",
       "    <tr style=\"text-align: right;\">\n",
       "      <th></th>\n",
       "      <th>Country Code</th>\n",
       "      <th>Country Name</th>\n",
       "      <th>emission co2 capita</th>\n",
       "      <th>CO2 emissions from gaseous fuel</th>\n",
       "      <th>CO2 emissions from elec and heat prod</th>\n",
       "      <th>CO2 emissions from solid fuel</th>\n",
       "      <th>CO2 emissions from transport</th>\n",
       "      <th>Alternative and nuclear energy</th>\n",
       "      <th>CO2 emissions from buildings</th>\n",
       "      <th>CO2 emissions from other sectors</th>\n",
       "      <th>CO2 emissions from liquid fuel</th>\n",
       "      <th>Combustible renewables and waste</th>\n",
       "      <th>0</th>\n",
       "    </tr>\n",
       "  </thead>\n",
       "  <tbody>\n",
       "    <tr>\n",
       "      <th>1</th>\n",
       "      <td>ALB</td>\n",
       "      <td>Albania</td>\n",
       "      <td>1.978763</td>\n",
       "      <td>1.026299</td>\n",
       "      <td>2.912621</td>\n",
       "      <td>12.251443</td>\n",
       "      <td>59.951456</td>\n",
       "      <td>17.924206</td>\n",
       "      <td>8.495146</td>\n",
       "      <td>6.553398</td>\n",
       "      <td>67.543297</td>\n",
       "      <td>9.361381</td>\n",
       "      <td>3</td>\n",
       "    </tr>\n",
       "    <tr>\n",
       "      <th>2</th>\n",
       "      <td>DZA</td>\n",
       "      <td>Algeria</td>\n",
       "      <td>3.717410</td>\n",
       "      <td>50.820912</td>\n",
       "      <td>38.826975</td>\n",
       "      <td>0.375779</td>\n",
       "      <td>35.280241</td>\n",
       "      <td>0.042274</td>\n",
       "      <td>15.179370</td>\n",
       "      <td>2.367201</td>\n",
       "      <td>36.372349</td>\n",
       "      <td>0.011600</td>\n",
       "      <td>2</td>\n",
       "    </tr>\n",
       "    <tr>\n",
       "      <th>5</th>\n",
       "      <td>AGO</td>\n",
       "      <td>Angola</td>\n",
       "      <td>1.291328</td>\n",
       "      <td>1.666667</td>\n",
       "      <td>19.170984</td>\n",
       "      <td>0.000000</td>\n",
       "      <td>43.989637</td>\n",
       "      <td>2.954635</td>\n",
       "      <td>28.704663</td>\n",
       "      <td>0.362694</td>\n",
       "      <td>56.012658</td>\n",
       "      <td>48.765820</td>\n",
       "      <td>1</td>\n",
       "    </tr>\n",
       "    <tr>\n",
       "      <th>7</th>\n",
       "      <td>ARG</td>\n",
       "      <td>Argentina</td>\n",
       "      <td>4.746797</td>\n",
       "      <td>47.392070</td>\n",
       "      <td>38.038563</td>\n",
       "      <td>2.854164</td>\n",
       "      <td>24.167143</td>\n",
       "      <td>5.878946</td>\n",
       "      <td>14.463905</td>\n",
       "      <td>6.465360</td>\n",
       "      <td>46.164492</td>\n",
       "      <td>4.599746</td>\n",
       "      <td>2</td>\n",
       "    </tr>\n",
       "    <tr>\n",
       "      <th>8</th>\n",
       "      <td>ARM</td>\n",
       "      <td>Armenia</td>\n",
       "      <td>1.902759</td>\n",
       "      <td>80.636605</td>\n",
       "      <td>29.693487</td>\n",
       "      <td>0.000000</td>\n",
       "      <td>27.777778</td>\n",
       "      <td>27.513410</td>\n",
       "      <td>31.034483</td>\n",
       "      <td>0.383142</td>\n",
       "      <td>15.517241</td>\n",
       "      <td>1.145285</td>\n",
       "      <td>2</td>\n",
       "    </tr>\n",
       "  </tbody>\n",
       "</table>\n",
       "</div>"
      ],
      "text/plain": [
       "  Country Code Country Name  emission co2 capita  \\\n",
       "1          ALB      Albania             1.978763   \n",
       "2          DZA      Algeria             3.717410   \n",
       "5          AGO       Angola             1.291328   \n",
       "7          ARG    Argentina             4.746797   \n",
       "8          ARM      Armenia             1.902759   \n",
       "\n",
       "   CO2 emissions from gaseous fuel  CO2 emissions from elec and heat prod  \\\n",
       "1                         1.026299                               2.912621   \n",
       "2                        50.820912                              38.826975   \n",
       "5                         1.666667                              19.170984   \n",
       "7                        47.392070                              38.038563   \n",
       "8                        80.636605                              29.693487   \n",
       "\n",
       "   CO2 emissions from solid fuel  CO2 emissions from transport  \\\n",
       "1                      12.251443                     59.951456   \n",
       "2                       0.375779                     35.280241   \n",
       "5                       0.000000                     43.989637   \n",
       "7                       2.854164                     24.167143   \n",
       "8                       0.000000                     27.777778   \n",
       "\n",
       "   Alternative and nuclear energy  CO2 emissions from buildings  \\\n",
       "1                       17.924206                      8.495146   \n",
       "2                        0.042274                     15.179370   \n",
       "5                        2.954635                     28.704663   \n",
       "7                        5.878946                     14.463905   \n",
       "8                       27.513410                     31.034483   \n",
       "\n",
       "   CO2 emissions from other sectors  CO2 emissions from liquid fuel  \\\n",
       "1                          6.553398                       67.543297   \n",
       "2                          2.367201                       36.372349   \n",
       "5                          0.362694                       56.012658   \n",
       "7                          6.465360                       46.164492   \n",
       "8                          0.383142                       15.517241   \n",
       "\n",
       "   Combustible renewables and waste  0  \n",
       "1                          9.361381  3  \n",
       "2                          0.011600  2  \n",
       "5                         48.765820  1  \n",
       "7                          4.599746  2  \n",
       "8                          1.145285  2  "
      ]
     },
     "execution_count": 19,
     "metadata": {},
     "output_type": "execute_result"
    }
   ],
   "source": [
    "clustering.head(5)"
   ]
  },
  {
   "cell_type": "markdown",
   "metadata": {},
   "source": [
    "#    IV - INTERPRETATION"
   ]
  },
  {
   "cell_type": "code",
   "execution_count": 20,
   "metadata": {
    "collapsed": true
   },
   "outputs": [],
   "source": [
    "# On crée des indices de sur ou sous représentation basés sur la moyenne tous pays confondus\n",
    "# (base 100 => si l'indice est égal à 100 pour une classe, cela veut dire que la moyenne de \n",
    "# la classe = moyenne tous pays confondus)\n",
    "\n",
    "gb=clustering.groupby(kmeans.labels_)\n",
    "interpret_groups = gb.mean() / clustering.mean() * 100\n",
    "interpret_groups.rename(columns={'EN.ATM.CO2E.GF.ZS' : 'CO2 emissions from gaseous fuel',\n",
    "'EN.CO2.ETOT.ZS' : 'CO2 emissions from elec and heat prod',\n",
    "'EN.ATM.CO2E.SF.ZS' : 'CO2 emissions from solid fuel',\n",
    "'EN.CO2.TRAN.ZS' : 'CO2 emissions from transport',\n",
    "'EG.USE.COMM.CL.ZS' : 'Alternative and nuclear energy',\n",
    "'EN.CO2.BLDG.ZS' : 'CO2 emissions from buildings',\n",
    "'EN.CO2.OTHX.ZS' : 'CO2 emissions from other sectors',\n",
    "'EN.ATM.CO2E.LF.ZS' : 'CO2 emissions from liquid fuel',\n",
    "'EG.USE.CRNW.ZS' : 'Combustible renewables and waste',\n",
    "'EN.ATM.CO2E.PC' : 'emission co2 capita'},inplace=True)"
   ]
  },
  {
   "cell_type": "code",
   "execution_count": 21,
   "metadata": {},
   "outputs": [
    {
     "name": "stdout",
     "output_type": "stream",
     "text": [
      "   emission co2 capita  CO2 emissions from gaseous fuel  \\\n",
      "0           114.590192                        59.928353   \n",
      "1            10.699364                        32.602762   \n",
      "2           182.925755                       259.996115   \n",
      "3            92.274470                        69.830963   \n",
      "\n",
      "   CO2 emissions from elec and heat prod  CO2 emissions from solid fuel  \\\n",
      "0                             141.683387                     290.949909   \n",
      "1                              55.271179                      27.341241   \n",
      "2                             118.796229                      36.030499   \n",
      "3                              87.004229                      53.903944   \n",
      "\n",
      "   CO2 emissions from transport  Alternative and nuclear energy  \\\n",
      "0                     56.141006                       98.456731   \n",
      "1                    159.996116                       76.818176   \n",
      "2                     70.001303                       47.792658   \n",
      "3                    112.333982                      145.437365   \n",
      "\n",
      "   CO2 emissions from buildings  CO2 emissions from other sectors  \\\n",
      "0                     86.723063                         65.321777   \n",
      "1                     86.537258                         77.624318   \n",
      "2                    136.208079                         69.276432   \n",
      "3                     94.920274                        154.030388   \n",
      "\n",
      "   CO2 emissions from liquid fuel  Combustible renewables and waste        0  \n",
      "0                       53.137440                         46.240019    0.000  \n",
      "1                      141.253111                        322.326865   59.375  \n",
      "2                       62.836107                         26.789910  118.750  \n",
      "3                      129.350944                         51.353545  178.125  \n"
     ]
    }
   ],
   "source": [
    "print(interpret_groups)"
   ]
  },
  {
   "cell_type": "markdown",
   "metadata": {},
   "source": [
    "Note de lecture : Le tableau ci-dessus nous aide à interpréter les classes obtenues. En effet, lorsque nous avons un indice fort (>120) sur un indicateur pour une classe donnée, cela signifie que ce groupe présente un moyenne bien plus importante que la moyenne mondiale sur cet indicateur. Ici, par exemple, la classe 1 a un très fort indice sur l'indicateur \"Combustible renewables and waste\", il s'agit donc d'un groupe de pays avec une action concernant les énergies renouvelables."
   ]
  },
  {
   "cell_type": "code",
   "execution_count": 22,
   "metadata": {},
   "outputs": [
    {
     "data": {
      "text/plain": [
       "0    31\n",
       "1    27\n",
       "2    28\n",
       "3    47\n",
       "Name: Country Name, dtype: int64"
      ]
     },
     "execution_count": 22,
     "metadata": {},
     "output_type": "execute_result"
    }
   ],
   "source": [
    "# Nombre de pays par cluster\n",
    "\n",
    "clustering[\"Country Name\"].groupby(kmeans.labels_).count()"
   ]
  },
  {
   "cell_type": "markdown",
   "metadata": {},
   "source": [
    "Remarque : la segmentation permet d'avoir une répartition des pays dans les classes assez homogène"
   ]
  },
  {
   "cell_type": "code",
   "execution_count": 23,
   "metadata": {},
   "outputs": [
    {
     "data": {
      "text/plain": [
       "<matplotlib.axes._subplots.AxesSubplot at 0x1a1b4e72908>"
      ]
     },
     "execution_count": 23,
     "metadata": {},
     "output_type": "execute_result"
    },
    {
     "data": {
      "image/png": "[encoded data removed]",
      "text/plain": [
       "<matplotlib.figure.Figure at 0x1a1a348a9e8>"
      ]
     },
     "metadata": {},
     "output_type": "display_data"
    },
    {
     "data": {
      "image/png": "[encoded data removed]",
      "text/plain": [
       "<matplotlib.figure.Figure at 0x1a1b4de5e80>"
      ]
     },
     "metadata": {},
     "output_type": "display_data"
    },
    {
     "data": {
      "image/png": "[encoded data removed]",
      "text/plain": [
       "<matplotlib.figure.Figure at 0x1a1b4e699b0>"
      ]
     },
     "metadata": {},
     "output_type": "display_data"
    }
   ],
   "source": [
    "###################################\n",
    "#    V - VISUALISATION\n",
    "###################################\n",
    "\n",
    "clustering[\"classe\"]=clustering.iloc[:, -1].values\n",
    "\n",
    "colors = {0:'blue', 1:'red', 2:'green', 3:'black'}\n",
    "\n",
    "clustering.plot.scatter(x='CO2 emissions from solid fuel', y='CO2 emissions from gaseous fuel', c=clustering[\"classe\"].apply(lambda x: colors[x]))\n",
    "clustering.plot.scatter(x='CO2 emissions from gaseous fuel', y='Combustible renewables and waste', c=clustering[\"classe\"].apply(lambda x: colors[x]))\n",
    "clustering.plot.scatter(x='CO2 emissions from solid fuel', y='Combustible renewables and waste', c=clustering[\"classe\"].apply(lambda x: colors[x]))\n"
   ]
  },
  {
   "cell_type": "markdown",
   "metadata": {},
   "source": [
    "Remarque : Ces graphiques permettent d'illustrer graphiquement les conclusions obtenues via le tableau des indices en base 100. En effet, nous pouvons aisément voir que le groupe rouge (1) est le groupe avec une grande importance des énergies renouvelables. Le groupe vert (2) est lui beaucoup plus porté sur les énergies gazeuses, là où le groupe bleu (0) est lui plus sur les énergies solides.\n",
    "\n",
    "Nous avons donc 4 groupes bien distincts en terme de caractéristiques environnementales."
   ]
  }
 ],
 "metadata": {
  "kernelspec": {
   "display_name": "Python 3",
   "language": "python",
   "name": "python3"
  },
  "language_info": {
   "codemirror_mode": {
    "name": "ipython",
    "version": 3
   },
   "file_extension": ".py",
   "mimetype": "text/x-python",
   "name": "python",
   "nbconvert_exporter": "python",
   "pygments_lexer": "ipython3",
   "version": "3.6.1"
  }
 },
 "nbformat": 4,
 "nbformat_minor": 2
}
